{
  "nbformat": 4,
  "nbformat_minor": 0,
  "metadata": {
    "colab": {
      "provenance": [],
      "authorship_tag": "ABX9TyMJdnV3IsB39VjxpVetIy2/",
      "include_colab_link": true
    },
    "kernelspec": {
      "name": "python3",
      "display_name": "Python 3"
    },
    "language_info": {
      "name": "python"
    }
  },
  "cells": [
    {
      "cell_type": "markdown",
      "metadata": {
        "id": "view-in-github",
        "colab_type": "text"
      },
      "source": [
        "<a href=\"https://colab.research.google.com/github/annapatricia/PROJETO_ESCOLA/blob/main/AULAS.ipynb\" target=\"_parent\"><img src=\"https://colab.research.google.com/assets/colab-badge.svg\" alt=\"Open In Colab\"/></a>"
      ]
    },
    {
      "cell_type": "code",
      "execution_count": 1,
      "metadata": {
        "colab": {
          "base_uri": "https://localhost:8080/"
        },
        "id": "iOI9KC9xFP_d",
        "outputId": "699ca0ec-729d-43d7-d9e3-f957ab43087e"
      },
      "outputs": [
        {
          "output_type": "stream",
          "name": "stdout",
          "text": [
            "      Nome  Notas\n",
            "0    Alice     85\n",
            "1      Bob     92\n",
            "2   Carlos     78\n",
            "3    Diana     90\n",
            "4  Eduardo     88\n"
          ]
        }
      ],
      "source": [
        "import pandas as pd\n",
        "\n",
        "# Dados\n",
        "data = {\n",
        "    \"Nome\": [\"Alice\", \"Bob\", \"Carlos\", \"Diana\", \"Eduardo\"],\n",
        "    \"Notas\": [85, 92, 78, 90, 88]\n",
        "}\n",
        "\n",
        "# Criação do DataFrame\n",
        "df = pd.DataFrame(data)\n",
        "\n",
        "# Exibição do DataFrame\n",
        "print(df)"
      ]
    }
  ]
}